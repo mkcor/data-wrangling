{
 "cells": [
  {
   "cell_type": "markdown",
   "metadata": {},
   "source": [
    "# Tidy data with Pandas"
   ]
  },
  {
   "cell_type": "markdown",
   "metadata": {},
   "source": [
    "References\n",
    "\n",
    "* https://github.com/jakevdp/PythonDataScienceHandbook\n",
    "\n",
    "* https://github.com/hadley/r4ds/blob/master/tidy.Rmd\n",
    "\n",
    "* https://www.jstatsoft.org/article/view/v059i10/"
   ]
  },
  {
   "cell_type": "code",
   "execution_count": 1,
   "metadata": {
    "collapsed": true
   },
   "outputs": [],
   "source": [
    "import pandas as pd"
   ]
  },
  {
   "cell_type": "markdown",
   "metadata": {},
   "source": [
    "Downloaded tuberculosis (TB) dataset from the World Health Organisation (http://www.who.int/tb/country/data/download/en/)."
   ]
  },
  {
   "cell_type": "code",
   "execution_count": 2,
   "metadata": {
    "collapsed": true
   },
   "outputs": [],
   "source": [
    "data = pd.read_csv('data/TB_notifications_2016-12-18.csv')"
   ]
  },
  {
   "cell_type": "code",
   "execution_count": 3,
   "metadata": {
    "collapsed": false
   },
   "outputs": [
    {
     "data": {
      "text/plain": [
       "(7674, 172)"
      ]
     },
     "execution_count": 3,
     "metadata": {},
     "output_type": "execute_result"
    }
   ],
   "source": [
    "data.shape"
   ]
  },
  {
   "cell_type": "code",
   "execution_count": 4,
   "metadata": {
    "collapsed": false
   },
   "outputs": [
    {
     "data": {
      "text/html": [
       "<div>\n",
       "<table border=\"1\" class=\"dataframe\">\n",
       "  <thead>\n",
       "    <tr style=\"text-align: right;\">\n",
       "      <th></th>\n",
       "      <th>country</th>\n",
       "      <th>iso2</th>\n",
       "      <th>iso3</th>\n",
       "      <th>iso_numeric</th>\n",
       "      <th>g_whoregion</th>\n",
       "      <th>year</th>\n",
       "      <th>new_sp</th>\n",
       "      <th>new_sn</th>\n",
       "      <th>new_su</th>\n",
       "      <th>new_ep</th>\n",
       "      <th>...</th>\n",
       "      <th>newrel_hivpos</th>\n",
       "      <th>newrel_art</th>\n",
       "      <th>hivtest</th>\n",
       "      <th>hivtest_pos</th>\n",
       "      <th>hiv_cpt</th>\n",
       "      <th>hiv_art</th>\n",
       "      <th>hiv_tbscr</th>\n",
       "      <th>hiv_reg</th>\n",
       "      <th>hiv_ipt</th>\n",
       "      <th>hiv_reg_new</th>\n",
       "    </tr>\n",
       "  </thead>\n",
       "  <tbody>\n",
       "    <tr>\n",
       "      <th>0</th>\n",
       "      <td>Afghanistan</td>\n",
       "      <td>AF</td>\n",
       "      <td>AFG</td>\n",
       "      <td>4</td>\n",
       "      <td>EMR</td>\n",
       "      <td>1980</td>\n",
       "      <td>NaN</td>\n",
       "      <td>NaN</td>\n",
       "      <td>NaN</td>\n",
       "      <td>NaN</td>\n",
       "      <td>...</td>\n",
       "      <td>NaN</td>\n",
       "      <td>NaN</td>\n",
       "      <td>NaN</td>\n",
       "      <td>NaN</td>\n",
       "      <td>NaN</td>\n",
       "      <td>NaN</td>\n",
       "      <td>NaN</td>\n",
       "      <td>NaN</td>\n",
       "      <td>NaN</td>\n",
       "      <td>NaN</td>\n",
       "    </tr>\n",
       "    <tr>\n",
       "      <th>1</th>\n",
       "      <td>Afghanistan</td>\n",
       "      <td>AF</td>\n",
       "      <td>AFG</td>\n",
       "      <td>4</td>\n",
       "      <td>EMR</td>\n",
       "      <td>1981</td>\n",
       "      <td>NaN</td>\n",
       "      <td>NaN</td>\n",
       "      <td>NaN</td>\n",
       "      <td>NaN</td>\n",
       "      <td>...</td>\n",
       "      <td>NaN</td>\n",
       "      <td>NaN</td>\n",
       "      <td>NaN</td>\n",
       "      <td>NaN</td>\n",
       "      <td>NaN</td>\n",
       "      <td>NaN</td>\n",
       "      <td>NaN</td>\n",
       "      <td>NaN</td>\n",
       "      <td>NaN</td>\n",
       "      <td>NaN</td>\n",
       "    </tr>\n",
       "    <tr>\n",
       "      <th>2</th>\n",
       "      <td>Afghanistan</td>\n",
       "      <td>AF</td>\n",
       "      <td>AFG</td>\n",
       "      <td>4</td>\n",
       "      <td>EMR</td>\n",
       "      <td>1982</td>\n",
       "      <td>NaN</td>\n",
       "      <td>NaN</td>\n",
       "      <td>NaN</td>\n",
       "      <td>NaN</td>\n",
       "      <td>...</td>\n",
       "      <td>NaN</td>\n",
       "      <td>NaN</td>\n",
       "      <td>NaN</td>\n",
       "      <td>NaN</td>\n",
       "      <td>NaN</td>\n",
       "      <td>NaN</td>\n",
       "      <td>NaN</td>\n",
       "      <td>NaN</td>\n",
       "      <td>NaN</td>\n",
       "      <td>NaN</td>\n",
       "    </tr>\n",
       "    <tr>\n",
       "      <th>3</th>\n",
       "      <td>Afghanistan</td>\n",
       "      <td>AF</td>\n",
       "      <td>AFG</td>\n",
       "      <td>4</td>\n",
       "      <td>EMR</td>\n",
       "      <td>1983</td>\n",
       "      <td>NaN</td>\n",
       "      <td>NaN</td>\n",
       "      <td>NaN</td>\n",
       "      <td>NaN</td>\n",
       "      <td>...</td>\n",
       "      <td>NaN</td>\n",
       "      <td>NaN</td>\n",
       "      <td>NaN</td>\n",
       "      <td>NaN</td>\n",
       "      <td>NaN</td>\n",
       "      <td>NaN</td>\n",
       "      <td>NaN</td>\n",
       "      <td>NaN</td>\n",
       "      <td>NaN</td>\n",
       "      <td>NaN</td>\n",
       "    </tr>\n",
       "    <tr>\n",
       "      <th>4</th>\n",
       "      <td>Afghanistan</td>\n",
       "      <td>AF</td>\n",
       "      <td>AFG</td>\n",
       "      <td>4</td>\n",
       "      <td>EMR</td>\n",
       "      <td>1984</td>\n",
       "      <td>NaN</td>\n",
       "      <td>NaN</td>\n",
       "      <td>NaN</td>\n",
       "      <td>NaN</td>\n",
       "      <td>...</td>\n",
       "      <td>NaN</td>\n",
       "      <td>NaN</td>\n",
       "      <td>NaN</td>\n",
       "      <td>NaN</td>\n",
       "      <td>NaN</td>\n",
       "      <td>NaN</td>\n",
       "      <td>NaN</td>\n",
       "      <td>NaN</td>\n",
       "      <td>NaN</td>\n",
       "      <td>NaN</td>\n",
       "    </tr>\n",
       "  </tbody>\n",
       "</table>\n",
       "<p>5 rows × 172 columns</p>\n",
       "</div>"
      ],
      "text/plain": [
       "       country iso2 iso3  iso_numeric g_whoregion  year  new_sp  new_sn  \\\n",
       "0  Afghanistan   AF  AFG            4         EMR  1980     NaN     NaN   \n",
       "1  Afghanistan   AF  AFG            4         EMR  1981     NaN     NaN   \n",
       "2  Afghanistan   AF  AFG            4         EMR  1982     NaN     NaN   \n",
       "3  Afghanistan   AF  AFG            4         EMR  1983     NaN     NaN   \n",
       "4  Afghanistan   AF  AFG            4         EMR  1984     NaN     NaN   \n",
       "\n",
       "   new_su  new_ep     ...       newrel_hivpos  newrel_art  hivtest  \\\n",
       "0     NaN     NaN     ...                 NaN         NaN      NaN   \n",
       "1     NaN     NaN     ...                 NaN         NaN      NaN   \n",
       "2     NaN     NaN     ...                 NaN         NaN      NaN   \n",
       "3     NaN     NaN     ...                 NaN         NaN      NaN   \n",
       "4     NaN     NaN     ...                 NaN         NaN      NaN   \n",
       "\n",
       "   hivtest_pos  hiv_cpt  hiv_art  hiv_tbscr  hiv_reg  hiv_ipt  hiv_reg_new  \n",
       "0          NaN      NaN      NaN        NaN      NaN      NaN          NaN  \n",
       "1          NaN      NaN      NaN        NaN      NaN      NaN          NaN  \n",
       "2          NaN      NaN      NaN        NaN      NaN      NaN          NaN  \n",
       "3          NaN      NaN      NaN        NaN      NaN      NaN          NaN  \n",
       "4          NaN      NaN      NaN        NaN      NaN      NaN          NaN  \n",
       "\n",
       "[5 rows x 172 columns]"
      ]
     },
     "execution_count": 4,
     "metadata": {},
     "output_type": "execute_result"
    }
   ],
   "source": [
    "data.head()"
   ]
  },
  {
   "cell_type": "code",
   "execution_count": 5,
   "metadata": {
    "collapsed": false
   },
   "outputs": [
    {
     "data": {
      "text/html": [
       "<div>\n",
       "<table border=\"1\" class=\"dataframe\">\n",
       "  <thead>\n",
       "    <tr style=\"text-align: right;\">\n",
       "      <th></th>\n",
       "      <th>new_sp</th>\n",
       "      <th>new_sn</th>\n",
       "      <th>new_su</th>\n",
       "      <th>new_ep</th>\n",
       "      <th>new_oth</th>\n",
       "      <th>newret_oth</th>\n",
       "      <th>new_labconf</th>\n",
       "      <th>new_clindx</th>\n",
       "      <th>new_sp_m04</th>\n",
       "      <th>new_sp_m514</th>\n",
       "      <th>...</th>\n",
       "      <th>newrel_fu</th>\n",
       "      <th>newrel_sexunk04</th>\n",
       "      <th>newrel_sexunk514</th>\n",
       "      <th>newrel_sexunk014</th>\n",
       "      <th>newrel_sexunk15plus</th>\n",
       "      <th>newrel_sexunkageunk</th>\n",
       "      <th>newinc_rdx</th>\n",
       "      <th>newrel_hivtest</th>\n",
       "      <th>newrel_hivpos</th>\n",
       "      <th>newrel_art</th>\n",
       "    </tr>\n",
       "  </thead>\n",
       "  <tbody>\n",
       "    <tr>\n",
       "      <th>0</th>\n",
       "      <td>NaN</td>\n",
       "      <td>NaN</td>\n",
       "      <td>NaN</td>\n",
       "      <td>NaN</td>\n",
       "      <td>NaN</td>\n",
       "      <td>NaN</td>\n",
       "      <td>NaN</td>\n",
       "      <td>NaN</td>\n",
       "      <td>NaN</td>\n",
       "      <td>NaN</td>\n",
       "      <td>...</td>\n",
       "      <td>NaN</td>\n",
       "      <td>NaN</td>\n",
       "      <td>NaN</td>\n",
       "      <td>NaN</td>\n",
       "      <td>NaN</td>\n",
       "      <td>NaN</td>\n",
       "      <td>NaN</td>\n",
       "      <td>NaN</td>\n",
       "      <td>NaN</td>\n",
       "      <td>NaN</td>\n",
       "    </tr>\n",
       "    <tr>\n",
       "      <th>1</th>\n",
       "      <td>NaN</td>\n",
       "      <td>NaN</td>\n",
       "      <td>NaN</td>\n",
       "      <td>NaN</td>\n",
       "      <td>NaN</td>\n",
       "      <td>NaN</td>\n",
       "      <td>NaN</td>\n",
       "      <td>NaN</td>\n",
       "      <td>NaN</td>\n",
       "      <td>NaN</td>\n",
       "      <td>...</td>\n",
       "      <td>NaN</td>\n",
       "      <td>NaN</td>\n",
       "      <td>NaN</td>\n",
       "      <td>NaN</td>\n",
       "      <td>NaN</td>\n",
       "      <td>NaN</td>\n",
       "      <td>NaN</td>\n",
       "      <td>NaN</td>\n",
       "      <td>NaN</td>\n",
       "      <td>NaN</td>\n",
       "    </tr>\n",
       "    <tr>\n",
       "      <th>2</th>\n",
       "      <td>NaN</td>\n",
       "      <td>NaN</td>\n",
       "      <td>NaN</td>\n",
       "      <td>NaN</td>\n",
       "      <td>NaN</td>\n",
       "      <td>NaN</td>\n",
       "      <td>NaN</td>\n",
       "      <td>NaN</td>\n",
       "      <td>NaN</td>\n",
       "      <td>NaN</td>\n",
       "      <td>...</td>\n",
       "      <td>NaN</td>\n",
       "      <td>NaN</td>\n",
       "      <td>NaN</td>\n",
       "      <td>NaN</td>\n",
       "      <td>NaN</td>\n",
       "      <td>NaN</td>\n",
       "      <td>NaN</td>\n",
       "      <td>NaN</td>\n",
       "      <td>NaN</td>\n",
       "      <td>NaN</td>\n",
       "    </tr>\n",
       "    <tr>\n",
       "      <th>3</th>\n",
       "      <td>NaN</td>\n",
       "      <td>NaN</td>\n",
       "      <td>NaN</td>\n",
       "      <td>NaN</td>\n",
       "      <td>NaN</td>\n",
       "      <td>NaN</td>\n",
       "      <td>NaN</td>\n",
       "      <td>NaN</td>\n",
       "      <td>NaN</td>\n",
       "      <td>NaN</td>\n",
       "      <td>...</td>\n",
       "      <td>NaN</td>\n",
       "      <td>NaN</td>\n",
       "      <td>NaN</td>\n",
       "      <td>NaN</td>\n",
       "      <td>NaN</td>\n",
       "      <td>NaN</td>\n",
       "      <td>NaN</td>\n",
       "      <td>NaN</td>\n",
       "      <td>NaN</td>\n",
       "      <td>NaN</td>\n",
       "    </tr>\n",
       "    <tr>\n",
       "      <th>4</th>\n",
       "      <td>NaN</td>\n",
       "      <td>NaN</td>\n",
       "      <td>NaN</td>\n",
       "      <td>NaN</td>\n",
       "      <td>NaN</td>\n",
       "      <td>NaN</td>\n",
       "      <td>NaN</td>\n",
       "      <td>NaN</td>\n",
       "      <td>NaN</td>\n",
       "      <td>NaN</td>\n",
       "      <td>...</td>\n",
       "      <td>NaN</td>\n",
       "      <td>NaN</td>\n",
       "      <td>NaN</td>\n",
       "      <td>NaN</td>\n",
       "      <td>NaN</td>\n",
       "      <td>NaN</td>\n",
       "      <td>NaN</td>\n",
       "      <td>NaN</td>\n",
       "      <td>NaN</td>\n",
       "      <td>NaN</td>\n",
       "    </tr>\n",
       "  </tbody>\n",
       "</table>\n",
       "<p>5 rows × 112 columns</p>\n",
       "</div>"
      ],
      "text/plain": [
       "   new_sp  new_sn  new_su  new_ep  new_oth  newret_oth  new_labconf  \\\n",
       "0     NaN     NaN     NaN     NaN      NaN         NaN          NaN   \n",
       "1     NaN     NaN     NaN     NaN      NaN         NaN          NaN   \n",
       "2     NaN     NaN     NaN     NaN      NaN         NaN          NaN   \n",
       "3     NaN     NaN     NaN     NaN      NaN         NaN          NaN   \n",
       "4     NaN     NaN     NaN     NaN      NaN         NaN          NaN   \n",
       "\n",
       "   new_clindx  new_sp_m04  new_sp_m514     ...      newrel_fu  \\\n",
       "0         NaN         NaN          NaN     ...            NaN   \n",
       "1         NaN         NaN          NaN     ...            NaN   \n",
       "2         NaN         NaN          NaN     ...            NaN   \n",
       "3         NaN         NaN          NaN     ...            NaN   \n",
       "4         NaN         NaN          NaN     ...            NaN   \n",
       "\n",
       "   newrel_sexunk04  newrel_sexunk514  newrel_sexunk014  newrel_sexunk15plus  \\\n",
       "0              NaN               NaN               NaN                  NaN   \n",
       "1              NaN               NaN               NaN                  NaN   \n",
       "2              NaN               NaN               NaN                  NaN   \n",
       "3              NaN               NaN               NaN                  NaN   \n",
       "4              NaN               NaN               NaN                  NaN   \n",
       "\n",
       "   newrel_sexunkageunk  newinc_rdx  newrel_hivtest  newrel_hivpos  newrel_art  \n",
       "0                  NaN         NaN             NaN            NaN         NaN  \n",
       "1                  NaN         NaN             NaN            NaN         NaN  \n",
       "2                  NaN         NaN             NaN            NaN         NaN  \n",
       "3                  NaN         NaN             NaN            NaN         NaN  \n",
       "4                  NaN         NaN             NaN            NaN         NaN  \n",
       "\n",
       "[5 rows x 112 columns]"
      ]
     },
     "execution_count": 5,
     "metadata": {},
     "output_type": "execute_result"
    }
   ],
   "source": [
    "data.filter(regex='^new').head()"
   ]
  },
  {
   "cell_type": "code",
   "execution_count": 6,
   "metadata": {
    "collapsed": false
   },
   "outputs": [
    {
     "data": {
      "text/html": [
       "<div>\n",
       "<table border=\"1\" class=\"dataframe\">\n",
       "  <thead>\n",
       "    <tr style=\"text-align: right;\">\n",
       "      <th></th>\n",
       "      <th>new_sp_m04</th>\n",
       "      <th>new_sp_m514</th>\n",
       "      <th>new_sp_m014</th>\n",
       "      <th>new_sp_m1524</th>\n",
       "      <th>new_sp_m2534</th>\n",
       "      <th>new_sp_m3544</th>\n",
       "      <th>new_sp_m4554</th>\n",
       "      <th>new_sp_m5564</th>\n",
       "      <th>new_sp_m65</th>\n",
       "      <th>new_sp_f04</th>\n",
       "      <th>...</th>\n",
       "      <th>newrel_f014</th>\n",
       "      <th>newrel_f1524</th>\n",
       "      <th>newrel_f2534</th>\n",
       "      <th>newrel_f3544</th>\n",
       "      <th>newrel_f4554</th>\n",
       "      <th>newrel_f5564</th>\n",
       "      <th>newrel_f65</th>\n",
       "      <th>newrel_sexunk04</th>\n",
       "      <th>newrel_sexunk514</th>\n",
       "      <th>newrel_sexunk014</th>\n",
       "    </tr>\n",
       "  </thead>\n",
       "  <tbody>\n",
       "    <tr>\n",
       "      <th>0</th>\n",
       "      <td>NaN</td>\n",
       "      <td>NaN</td>\n",
       "      <td>NaN</td>\n",
       "      <td>NaN</td>\n",
       "      <td>NaN</td>\n",
       "      <td>NaN</td>\n",
       "      <td>NaN</td>\n",
       "      <td>NaN</td>\n",
       "      <td>NaN</td>\n",
       "      <td>NaN</td>\n",
       "      <td>...</td>\n",
       "      <td>NaN</td>\n",
       "      <td>NaN</td>\n",
       "      <td>NaN</td>\n",
       "      <td>NaN</td>\n",
       "      <td>NaN</td>\n",
       "      <td>NaN</td>\n",
       "      <td>NaN</td>\n",
       "      <td>NaN</td>\n",
       "      <td>NaN</td>\n",
       "      <td>NaN</td>\n",
       "    </tr>\n",
       "    <tr>\n",
       "      <th>1</th>\n",
       "      <td>NaN</td>\n",
       "      <td>NaN</td>\n",
       "      <td>NaN</td>\n",
       "      <td>NaN</td>\n",
       "      <td>NaN</td>\n",
       "      <td>NaN</td>\n",
       "      <td>NaN</td>\n",
       "      <td>NaN</td>\n",
       "      <td>NaN</td>\n",
       "      <td>NaN</td>\n",
       "      <td>...</td>\n",
       "      <td>NaN</td>\n",
       "      <td>NaN</td>\n",
       "      <td>NaN</td>\n",
       "      <td>NaN</td>\n",
       "      <td>NaN</td>\n",
       "      <td>NaN</td>\n",
       "      <td>NaN</td>\n",
       "      <td>NaN</td>\n",
       "      <td>NaN</td>\n",
       "      <td>NaN</td>\n",
       "    </tr>\n",
       "    <tr>\n",
       "      <th>2</th>\n",
       "      <td>NaN</td>\n",
       "      <td>NaN</td>\n",
       "      <td>NaN</td>\n",
       "      <td>NaN</td>\n",
       "      <td>NaN</td>\n",
       "      <td>NaN</td>\n",
       "      <td>NaN</td>\n",
       "      <td>NaN</td>\n",
       "      <td>NaN</td>\n",
       "      <td>NaN</td>\n",
       "      <td>...</td>\n",
       "      <td>NaN</td>\n",
       "      <td>NaN</td>\n",
       "      <td>NaN</td>\n",
       "      <td>NaN</td>\n",
       "      <td>NaN</td>\n",
       "      <td>NaN</td>\n",
       "      <td>NaN</td>\n",
       "      <td>NaN</td>\n",
       "      <td>NaN</td>\n",
       "      <td>NaN</td>\n",
       "    </tr>\n",
       "    <tr>\n",
       "      <th>3</th>\n",
       "      <td>NaN</td>\n",
       "      <td>NaN</td>\n",
       "      <td>NaN</td>\n",
       "      <td>NaN</td>\n",
       "      <td>NaN</td>\n",
       "      <td>NaN</td>\n",
       "      <td>NaN</td>\n",
       "      <td>NaN</td>\n",
       "      <td>NaN</td>\n",
       "      <td>NaN</td>\n",
       "      <td>...</td>\n",
       "      <td>NaN</td>\n",
       "      <td>NaN</td>\n",
       "      <td>NaN</td>\n",
       "      <td>NaN</td>\n",
       "      <td>NaN</td>\n",
       "      <td>NaN</td>\n",
       "      <td>NaN</td>\n",
       "      <td>NaN</td>\n",
       "      <td>NaN</td>\n",
       "      <td>NaN</td>\n",
       "    </tr>\n",
       "    <tr>\n",
       "      <th>4</th>\n",
       "      <td>NaN</td>\n",
       "      <td>NaN</td>\n",
       "      <td>NaN</td>\n",
       "      <td>NaN</td>\n",
       "      <td>NaN</td>\n",
       "      <td>NaN</td>\n",
       "      <td>NaN</td>\n",
       "      <td>NaN</td>\n",
       "      <td>NaN</td>\n",
       "      <td>NaN</td>\n",
       "      <td>...</td>\n",
       "      <td>NaN</td>\n",
       "      <td>NaN</td>\n",
       "      <td>NaN</td>\n",
       "      <td>NaN</td>\n",
       "      <td>NaN</td>\n",
       "      <td>NaN</td>\n",
       "      <td>NaN</td>\n",
       "      <td>NaN</td>\n",
       "      <td>NaN</td>\n",
       "      <td>NaN</td>\n",
       "    </tr>\n",
       "  </tbody>\n",
       "</table>\n",
       "<p>5 rows × 81 columns</p>\n",
       "</div>"
      ],
      "text/plain": [
       "   new_sp_m04  new_sp_m514  new_sp_m014  new_sp_m1524  new_sp_m2534  \\\n",
       "0         NaN          NaN          NaN           NaN           NaN   \n",
       "1         NaN          NaN          NaN           NaN           NaN   \n",
       "2         NaN          NaN          NaN           NaN           NaN   \n",
       "3         NaN          NaN          NaN           NaN           NaN   \n",
       "4         NaN          NaN          NaN           NaN           NaN   \n",
       "\n",
       "   new_sp_m3544  new_sp_m4554  new_sp_m5564  new_sp_m65  new_sp_f04  \\\n",
       "0           NaN           NaN           NaN         NaN         NaN   \n",
       "1           NaN           NaN           NaN         NaN         NaN   \n",
       "2           NaN           NaN           NaN         NaN         NaN   \n",
       "3           NaN           NaN           NaN         NaN         NaN   \n",
       "4           NaN           NaN           NaN         NaN         NaN   \n",
       "\n",
       "         ...         newrel_f014  newrel_f1524  newrel_f2534  newrel_f3544  \\\n",
       "0        ...                 NaN           NaN           NaN           NaN   \n",
       "1        ...                 NaN           NaN           NaN           NaN   \n",
       "2        ...                 NaN           NaN           NaN           NaN   \n",
       "3        ...                 NaN           NaN           NaN           NaN   \n",
       "4        ...                 NaN           NaN           NaN           NaN   \n",
       "\n",
       "   newrel_f4554  newrel_f5564  newrel_f65  newrel_sexunk04  newrel_sexunk514  \\\n",
       "0           NaN           NaN         NaN              NaN               NaN   \n",
       "1           NaN           NaN         NaN              NaN               NaN   \n",
       "2           NaN           NaN         NaN              NaN               NaN   \n",
       "3           NaN           NaN         NaN              NaN               NaN   \n",
       "4           NaN           NaN         NaN              NaN               NaN   \n",
       "\n",
       "   newrel_sexunk014  \n",
       "0               NaN  \n",
       "1               NaN  \n",
       "2               NaN  \n",
       "3               NaN  \n",
       "4               NaN  \n",
       "\n",
       "[5 rows x 81 columns]"
      ]
     },
     "execution_count": 6,
     "metadata": {},
     "output_type": "execute_result"
    }
   ],
   "source": [
    "data.filter(regex='^new.*[0-9]$').head()"
   ]
  },
  {
   "cell_type": "code",
   "execution_count": 7,
   "metadata": {
    "collapsed": false
   },
   "outputs": [
    {
     "data": {
      "text/html": [
       "<div>\n",
       "<table border=\"1\" class=\"dataframe\">\n",
       "  <thead>\n",
       "    <tr style=\"text-align: right;\">\n",
       "      <th></th>\n",
       "      <th>new_sp_m514</th>\n",
       "      <th>new_sp_f514</th>\n",
       "      <th>new_sn_m514</th>\n",
       "      <th>new_sn_f514</th>\n",
       "      <th>new_sn_sexunk514</th>\n",
       "      <th>new_ep_m514</th>\n",
       "      <th>new_ep_f514</th>\n",
       "      <th>new_ep_sexunk514</th>\n",
       "      <th>newrel_m514</th>\n",
       "      <th>newrel_f514</th>\n",
       "      <th>newrel_sexunk514</th>\n",
       "    </tr>\n",
       "  </thead>\n",
       "  <tbody>\n",
       "    <tr>\n",
       "      <th>0</th>\n",
       "      <td>NaN</td>\n",
       "      <td>NaN</td>\n",
       "      <td>NaN</td>\n",
       "      <td>NaN</td>\n",
       "      <td>NaN</td>\n",
       "      <td>NaN</td>\n",
       "      <td>NaN</td>\n",
       "      <td>NaN</td>\n",
       "      <td>NaN</td>\n",
       "      <td>NaN</td>\n",
       "      <td>NaN</td>\n",
       "    </tr>\n",
       "    <tr>\n",
       "      <th>1</th>\n",
       "      <td>NaN</td>\n",
       "      <td>NaN</td>\n",
       "      <td>NaN</td>\n",
       "      <td>NaN</td>\n",
       "      <td>NaN</td>\n",
       "      <td>NaN</td>\n",
       "      <td>NaN</td>\n",
       "      <td>NaN</td>\n",
       "      <td>NaN</td>\n",
       "      <td>NaN</td>\n",
       "      <td>NaN</td>\n",
       "    </tr>\n",
       "    <tr>\n",
       "      <th>2</th>\n",
       "      <td>NaN</td>\n",
       "      <td>NaN</td>\n",
       "      <td>NaN</td>\n",
       "      <td>NaN</td>\n",
       "      <td>NaN</td>\n",
       "      <td>NaN</td>\n",
       "      <td>NaN</td>\n",
       "      <td>NaN</td>\n",
       "      <td>NaN</td>\n",
       "      <td>NaN</td>\n",
       "      <td>NaN</td>\n",
       "    </tr>\n",
       "    <tr>\n",
       "      <th>3</th>\n",
       "      <td>NaN</td>\n",
       "      <td>NaN</td>\n",
       "      <td>NaN</td>\n",
       "      <td>NaN</td>\n",
       "      <td>NaN</td>\n",
       "      <td>NaN</td>\n",
       "      <td>NaN</td>\n",
       "      <td>NaN</td>\n",
       "      <td>NaN</td>\n",
       "      <td>NaN</td>\n",
       "      <td>NaN</td>\n",
       "    </tr>\n",
       "    <tr>\n",
       "      <th>4</th>\n",
       "      <td>NaN</td>\n",
       "      <td>NaN</td>\n",
       "      <td>NaN</td>\n",
       "      <td>NaN</td>\n",
       "      <td>NaN</td>\n",
       "      <td>NaN</td>\n",
       "      <td>NaN</td>\n",
       "      <td>NaN</td>\n",
       "      <td>NaN</td>\n",
       "      <td>NaN</td>\n",
       "      <td>NaN</td>\n",
       "    </tr>\n",
       "  </tbody>\n",
       "</table>\n",
       "</div>"
      ],
      "text/plain": [
       "   new_sp_m514  new_sp_f514  new_sn_m514  new_sn_f514  new_sn_sexunk514  \\\n",
       "0          NaN          NaN          NaN          NaN               NaN   \n",
       "1          NaN          NaN          NaN          NaN               NaN   \n",
       "2          NaN          NaN          NaN          NaN               NaN   \n",
       "3          NaN          NaN          NaN          NaN               NaN   \n",
       "4          NaN          NaN          NaN          NaN               NaN   \n",
       "\n",
       "   new_ep_m514  new_ep_f514  new_ep_sexunk514  newrel_m514  newrel_f514  \\\n",
       "0          NaN          NaN               NaN          NaN          NaN   \n",
       "1          NaN          NaN               NaN          NaN          NaN   \n",
       "2          NaN          NaN               NaN          NaN          NaN   \n",
       "3          NaN          NaN               NaN          NaN          NaN   \n",
       "4          NaN          NaN               NaN          NaN          NaN   \n",
       "\n",
       "   newrel_sexunk514  \n",
       "0               NaN  \n",
       "1               NaN  \n",
       "2               NaN  \n",
       "3               NaN  \n",
       "4               NaN  "
      ]
     },
     "execution_count": 7,
     "metadata": {},
     "output_type": "execute_result"
    }
   ],
   "source": [
    "# http://pandas.pydata.org/pandas-docs/stable/generated/pandas.DataFrame.filter.html\n",
    "data.filter(like='514').head()"
   ]
  },
  {
   "cell_type": "code",
   "execution_count": 8,
   "metadata": {
    "collapsed": false
   },
   "outputs": [
    {
     "data": {
      "text/plain": [
       "new_sp_m514          1594.0\n",
       "new_sp_f514          3132.0\n",
       "new_sn_m514          8438.0\n",
       "new_sn_f514          7322.0\n",
       "new_sn_sexunk514     4438.0\n",
       "new_ep_m514          4369.0\n",
       "new_ep_f514          4055.0\n",
       "new_ep_sexunk514     5376.0\n",
       "newrel_m514         36547.0\n",
       "newrel_f514         45138.0\n",
       "newrel_sexunk514     3720.0\n",
       "dtype: float64"
      ]
     },
     "execution_count": 8,
     "metadata": {},
     "output_type": "execute_result"
    }
   ],
   "source": [
    "data.filter(like='514').max()"
   ]
  },
  {
   "cell_type": "code",
   "execution_count": 9,
   "metadata": {
    "collapsed": false
   },
   "outputs": [
    {
     "data": {
      "text/plain": [
       "new_sp_m514          1595.0\n",
       "new_sp_f514          3133.0\n",
       "new_sn_m514          8439.0\n",
       "new_sn_f514          7323.0\n",
       "new_sn_sexunk514     4439.0\n",
       "new_ep_m514          4370.0\n",
       "new_ep_f514          4056.0\n",
       "new_ep_sexunk514     5377.0\n",
       "newrel_m514         36548.0\n",
       "newrel_f514         45139.0\n",
       "newrel_sexunk514     3721.0\n",
       "dtype: float64"
      ]
     },
     "execution_count": 9,
     "metadata": {},
     "output_type": "execute_result"
    }
   ],
   "source": [
    "(data.filter(like='514') + 1).max()"
   ]
  },
  {
   "cell_type": "code",
   "execution_count": 10,
   "metadata": {
    "collapsed": false
   },
   "outputs": [
    {
     "data": {
      "text/plain": [
       "new_sp_m514          1595.0\n",
       "new_sp_f514          3133.0\n",
       "new_sn_m514          8439.0\n",
       "new_sn_f514          7323.0\n",
       "new_sn_sexunk514     4439.0\n",
       "new_ep_m514          4370.0\n",
       "new_ep_f514          4056.0\n",
       "new_ep_sexunk514     5377.0\n",
       "newrel_m514         36548.0\n",
       "newrel_f514         45139.0\n",
       "newrel_sexunk514     3721.0\n",
       "dtype: float64"
      ]
     },
     "execution_count": 10,
     "metadata": {},
     "output_type": "execute_result"
    }
   ],
   "source": [
    "# Pass an anonymous function to apply()\n",
    "data.filter(like='514').apply(lambda x: x + 1).max()"
   ]
  },
  {
   "cell_type": "markdown",
   "metadata": {},
   "source": [
    "Subset the data to mimic the `who` dataset from R package `tidyr`."
   ]
  },
  {
   "cell_type": "code",
   "execution_count": 11,
   "metadata": {
    "collapsed": true
   },
   "outputs": [],
   "source": [
    "new = data.filter(regex='^new.*(f|m).*[0-9]$')"
   ]
  },
  {
   "cell_type": "code",
   "execution_count": 12,
   "metadata": {
    "collapsed": false
   },
   "outputs": [],
   "source": [
    "crit = new.columns.map(lambda x: x.endswith('04') | x.endswith('514'))"
   ]
  },
  {
   "cell_type": "code",
   "execution_count": 13,
   "metadata": {
    "collapsed": false
   },
   "outputs": [
    {
     "data": {
      "text/plain": [
       "Index(['new_sp_m014', 'new_sp_m1524', 'new_sp_m2534', 'new_sp_m3544',\n",
       "       'new_sp_m4554', 'new_sp_m5564', 'new_sp_m65', 'new_sp_f014',\n",
       "       'new_sp_f1524', 'new_sp_f2534', 'new_sp_f3544', 'new_sp_f4554',\n",
       "       'new_sp_f5564', 'new_sp_f65', 'new_sn_m014', 'new_sn_m1524',\n",
       "       'new_sn_m2534', 'new_sn_m3544', 'new_sn_m4554', 'new_sn_m5564',\n",
       "       'new_sn_m65', 'new_sn_f014', 'new_sn_f1524', 'new_sn_f2534',\n",
       "       'new_sn_f3544', 'new_sn_f4554', 'new_sn_f5564', 'new_sn_f65',\n",
       "       'new_ep_m014', 'new_ep_m1524', 'new_ep_m2534', 'new_ep_m3544',\n",
       "       'new_ep_m4554', 'new_ep_m5564', 'new_ep_m65', 'new_ep_f014',\n",
       "       'new_ep_f1524', 'new_ep_f2534', 'new_ep_f3544', 'new_ep_f4554',\n",
       "       'new_ep_f5564', 'new_ep_f65', 'newrel_m014', 'newrel_m1524',\n",
       "       'newrel_m2534', 'newrel_m3544', 'newrel_m4554', 'newrel_m5564',\n",
       "       'newrel_m65', 'newrel_f014', 'newrel_f1524', 'newrel_f2534',\n",
       "       'newrel_f3544', 'newrel_f4554', 'newrel_f5564', 'newrel_f65'],\n",
       "      dtype='object')"
      ]
     },
     "execution_count": 13,
     "metadata": {},
     "output_type": "execute_result"
    }
   ],
   "source": [
    "new.columns[~crit]"
   ]
  },
  {
   "cell_type": "code",
   "execution_count": 14,
   "metadata": {
    "collapsed": false
   },
   "outputs": [
    {
     "data": {
      "text/html": [
       "<div>\n",
       "<table border=\"1\" class=\"dataframe\">\n",
       "  <thead>\n",
       "    <tr style=\"text-align: right;\">\n",
       "      <th></th>\n",
       "      <th>country</th>\n",
       "      <th>g_whoregion</th>\n",
       "      <th>year</th>\n",
       "      <th>new_sp_m014</th>\n",
       "      <th>new_sp_m1524</th>\n",
       "      <th>new_sp_m2534</th>\n",
       "      <th>new_sp_m3544</th>\n",
       "      <th>new_sp_m4554</th>\n",
       "      <th>new_sp_m5564</th>\n",
       "      <th>new_sp_m65</th>\n",
       "      <th>...</th>\n",
       "      <th>newrel_m4554</th>\n",
       "      <th>newrel_m5564</th>\n",
       "      <th>newrel_m65</th>\n",
       "      <th>newrel_f014</th>\n",
       "      <th>newrel_f1524</th>\n",
       "      <th>newrel_f2534</th>\n",
       "      <th>newrel_f3544</th>\n",
       "      <th>newrel_f4554</th>\n",
       "      <th>newrel_f5564</th>\n",
       "      <th>newrel_f65</th>\n",
       "    </tr>\n",
       "  </thead>\n",
       "  <tbody>\n",
       "    <tr>\n",
       "      <th>0</th>\n",
       "      <td>Afghanistan</td>\n",
       "      <td>EMR</td>\n",
       "      <td>1980</td>\n",
       "      <td>NaN</td>\n",
       "      <td>NaN</td>\n",
       "      <td>NaN</td>\n",
       "      <td>NaN</td>\n",
       "      <td>NaN</td>\n",
       "      <td>NaN</td>\n",
       "      <td>NaN</td>\n",
       "      <td>...</td>\n",
       "      <td>NaN</td>\n",
       "      <td>NaN</td>\n",
       "      <td>NaN</td>\n",
       "      <td>NaN</td>\n",
       "      <td>NaN</td>\n",
       "      <td>NaN</td>\n",
       "      <td>NaN</td>\n",
       "      <td>NaN</td>\n",
       "      <td>NaN</td>\n",
       "      <td>NaN</td>\n",
       "    </tr>\n",
       "    <tr>\n",
       "      <th>1</th>\n",
       "      <td>Afghanistan</td>\n",
       "      <td>EMR</td>\n",
       "      <td>1981</td>\n",
       "      <td>NaN</td>\n",
       "      <td>NaN</td>\n",
       "      <td>NaN</td>\n",
       "      <td>NaN</td>\n",
       "      <td>NaN</td>\n",
       "      <td>NaN</td>\n",
       "      <td>NaN</td>\n",
       "      <td>...</td>\n",
       "      <td>NaN</td>\n",
       "      <td>NaN</td>\n",
       "      <td>NaN</td>\n",
       "      <td>NaN</td>\n",
       "      <td>NaN</td>\n",
       "      <td>NaN</td>\n",
       "      <td>NaN</td>\n",
       "      <td>NaN</td>\n",
       "      <td>NaN</td>\n",
       "      <td>NaN</td>\n",
       "    </tr>\n",
       "    <tr>\n",
       "      <th>2</th>\n",
       "      <td>Afghanistan</td>\n",
       "      <td>EMR</td>\n",
       "      <td>1982</td>\n",
       "      <td>NaN</td>\n",
       "      <td>NaN</td>\n",
       "      <td>NaN</td>\n",
       "      <td>NaN</td>\n",
       "      <td>NaN</td>\n",
       "      <td>NaN</td>\n",
       "      <td>NaN</td>\n",
       "      <td>...</td>\n",
       "      <td>NaN</td>\n",
       "      <td>NaN</td>\n",
       "      <td>NaN</td>\n",
       "      <td>NaN</td>\n",
       "      <td>NaN</td>\n",
       "      <td>NaN</td>\n",
       "      <td>NaN</td>\n",
       "      <td>NaN</td>\n",
       "      <td>NaN</td>\n",
       "      <td>NaN</td>\n",
       "    </tr>\n",
       "    <tr>\n",
       "      <th>3</th>\n",
       "      <td>Afghanistan</td>\n",
       "      <td>EMR</td>\n",
       "      <td>1983</td>\n",
       "      <td>NaN</td>\n",
       "      <td>NaN</td>\n",
       "      <td>NaN</td>\n",
       "      <td>NaN</td>\n",
       "      <td>NaN</td>\n",
       "      <td>NaN</td>\n",
       "      <td>NaN</td>\n",
       "      <td>...</td>\n",
       "      <td>NaN</td>\n",
       "      <td>NaN</td>\n",
       "      <td>NaN</td>\n",
       "      <td>NaN</td>\n",
       "      <td>NaN</td>\n",
       "      <td>NaN</td>\n",
       "      <td>NaN</td>\n",
       "      <td>NaN</td>\n",
       "      <td>NaN</td>\n",
       "      <td>NaN</td>\n",
       "    </tr>\n",
       "    <tr>\n",
       "      <th>4</th>\n",
       "      <td>Afghanistan</td>\n",
       "      <td>EMR</td>\n",
       "      <td>1984</td>\n",
       "      <td>NaN</td>\n",
       "      <td>NaN</td>\n",
       "      <td>NaN</td>\n",
       "      <td>NaN</td>\n",
       "      <td>NaN</td>\n",
       "      <td>NaN</td>\n",
       "      <td>NaN</td>\n",
       "      <td>...</td>\n",
       "      <td>NaN</td>\n",
       "      <td>NaN</td>\n",
       "      <td>NaN</td>\n",
       "      <td>NaN</td>\n",
       "      <td>NaN</td>\n",
       "      <td>NaN</td>\n",
       "      <td>NaN</td>\n",
       "      <td>NaN</td>\n",
       "      <td>NaN</td>\n",
       "      <td>NaN</td>\n",
       "    </tr>\n",
       "  </tbody>\n",
       "</table>\n",
       "<p>5 rows × 59 columns</p>\n",
       "</div>"
      ],
      "text/plain": [
       "       country g_whoregion  year  new_sp_m014  new_sp_m1524  new_sp_m2534  \\\n",
       "0  Afghanistan         EMR  1980          NaN           NaN           NaN   \n",
       "1  Afghanistan         EMR  1981          NaN           NaN           NaN   \n",
       "2  Afghanistan         EMR  1982          NaN           NaN           NaN   \n",
       "3  Afghanistan         EMR  1983          NaN           NaN           NaN   \n",
       "4  Afghanistan         EMR  1984          NaN           NaN           NaN   \n",
       "\n",
       "   new_sp_m3544  new_sp_m4554  new_sp_m5564  new_sp_m65     ...      \\\n",
       "0           NaN           NaN           NaN         NaN     ...       \n",
       "1           NaN           NaN           NaN         NaN     ...       \n",
       "2           NaN           NaN           NaN         NaN     ...       \n",
       "3           NaN           NaN           NaN         NaN     ...       \n",
       "4           NaN           NaN           NaN         NaN     ...       \n",
       "\n",
       "   newrel_m4554  newrel_m5564  newrel_m65  newrel_f014  newrel_f1524  \\\n",
       "0           NaN           NaN         NaN          NaN           NaN   \n",
       "1           NaN           NaN         NaN          NaN           NaN   \n",
       "2           NaN           NaN         NaN          NaN           NaN   \n",
       "3           NaN           NaN         NaN          NaN           NaN   \n",
       "4           NaN           NaN         NaN          NaN           NaN   \n",
       "\n",
       "   newrel_f2534  newrel_f3544  newrel_f4554  newrel_f5564  newrel_f65  \n",
       "0           NaN           NaN           NaN           NaN         NaN  \n",
       "1           NaN           NaN           NaN           NaN         NaN  \n",
       "2           NaN           NaN           NaN           NaN         NaN  \n",
       "3           NaN           NaN           NaN           NaN         NaN  \n",
       "4           NaN           NaN           NaN           NaN         NaN  \n",
       "\n",
       "[5 rows x 59 columns]"
      ]
     },
     "execution_count": 14,
     "metadata": {},
     "output_type": "execute_result"
    }
   ],
   "source": [
    "# http://pandas.pydata.org/pandas-docs/stable/merging.html\n",
    "df = pd.concat([data[['country', 'g_whoregion', 'year']], data[new.columns[~crit]]], axis=1)\n",
    "df.head()"
   ]
  },
  {
   "cell_type": "markdown",
   "metadata": {},
   "source": [
    "What are the variables in this dataset?"
   ]
  },
  {
   "cell_type": "code",
   "execution_count": 15,
   "metadata": {
    "collapsed": true
   },
   "outputs": [],
   "source": [
    "import re"
   ]
  },
  {
   "cell_type": "code",
   "execution_count": 16,
   "metadata": {
    "collapsed": true
   },
   "outputs": [],
   "source": [
    "df.rename(columns=lambda x: re.sub('newrel', 'new_rel', x), inplace=True)"
   ]
  },
  {
   "cell_type": "code",
   "execution_count": 17,
   "metadata": {
    "collapsed": false
   },
   "outputs": [],
   "source": [
    "# http://pandas.pydata.org/pandas-docs/stable/generated/pandas.melt.html\n",
    "melted = pd.melt(df, id_vars=['country', 'g_whoregion', 'year'], var_name='key', value_name='cases')"
   ]
  },
  {
   "cell_type": "code",
   "execution_count": 18,
   "metadata": {
    "collapsed": false
   },
   "outputs": [
    {
     "data": {
      "text/html": [
       "<div>\n",
       "<table border=\"1\" class=\"dataframe\">\n",
       "  <thead>\n",
       "    <tr style=\"text-align: right;\">\n",
       "      <th></th>\n",
       "      <th>country</th>\n",
       "      <th>g_whoregion</th>\n",
       "      <th>year</th>\n",
       "      <th>key</th>\n",
       "      <th>cases</th>\n",
       "    </tr>\n",
       "  </thead>\n",
       "  <tbody>\n",
       "    <tr>\n",
       "      <th>0</th>\n",
       "      <td>Afghanistan</td>\n",
       "      <td>EMR</td>\n",
       "      <td>1980</td>\n",
       "      <td>new_sp_m014</td>\n",
       "      <td>NaN</td>\n",
       "    </tr>\n",
       "    <tr>\n",
       "      <th>1</th>\n",
       "      <td>Afghanistan</td>\n",
       "      <td>EMR</td>\n",
       "      <td>1981</td>\n",
       "      <td>new_sp_m014</td>\n",
       "      <td>NaN</td>\n",
       "    </tr>\n",
       "    <tr>\n",
       "      <th>2</th>\n",
       "      <td>Afghanistan</td>\n",
       "      <td>EMR</td>\n",
       "      <td>1982</td>\n",
       "      <td>new_sp_m014</td>\n",
       "      <td>NaN</td>\n",
       "    </tr>\n",
       "    <tr>\n",
       "      <th>3</th>\n",
       "      <td>Afghanistan</td>\n",
       "      <td>EMR</td>\n",
       "      <td>1983</td>\n",
       "      <td>new_sp_m014</td>\n",
       "      <td>NaN</td>\n",
       "    </tr>\n",
       "    <tr>\n",
       "      <th>4</th>\n",
       "      <td>Afghanistan</td>\n",
       "      <td>EMR</td>\n",
       "      <td>1984</td>\n",
       "      <td>new_sp_m014</td>\n",
       "      <td>NaN</td>\n",
       "    </tr>\n",
       "  </tbody>\n",
       "</table>\n",
       "</div>"
      ],
      "text/plain": [
       "       country g_whoregion  year          key  cases\n",
       "0  Afghanistan         EMR  1980  new_sp_m014    NaN\n",
       "1  Afghanistan         EMR  1981  new_sp_m014    NaN\n",
       "2  Afghanistan         EMR  1982  new_sp_m014    NaN\n",
       "3  Afghanistan         EMR  1983  new_sp_m014    NaN\n",
       "4  Afghanistan         EMR  1984  new_sp_m014    NaN"
      ]
     },
     "execution_count": 18,
     "metadata": {},
     "output_type": "execute_result"
    }
   ],
   "source": [
    "melted.head()"
   ]
  },
  {
   "cell_type": "code",
   "execution_count": 19,
   "metadata": {
    "collapsed": false
   },
   "outputs": [],
   "source": [
    "melted[['new', 'type', 'sexage']] = melted['key'].apply(lambda x: pd.Series(x.split('_')))"
   ]
  },
  {
   "cell_type": "code",
   "execution_count": 20,
   "metadata": {
    "collapsed": false
   },
   "outputs": [
    {
     "data": {
      "text/html": [
       "<div>\n",
       "<table border=\"1\" class=\"dataframe\">\n",
       "  <thead>\n",
       "    <tr style=\"text-align: right;\">\n",
       "      <th></th>\n",
       "      <th>country</th>\n",
       "      <th>g_whoregion</th>\n",
       "      <th>year</th>\n",
       "      <th>key</th>\n",
       "      <th>cases</th>\n",
       "      <th>new</th>\n",
       "      <th>type</th>\n",
       "      <th>sexage</th>\n",
       "    </tr>\n",
       "  </thead>\n",
       "  <tbody>\n",
       "    <tr>\n",
       "      <th>0</th>\n",
       "      <td>Afghanistan</td>\n",
       "      <td>EMR</td>\n",
       "      <td>1980</td>\n",
       "      <td>new_sp_m014</td>\n",
       "      <td>NaN</td>\n",
       "      <td>new</td>\n",
       "      <td>sp</td>\n",
       "      <td>m014</td>\n",
       "    </tr>\n",
       "    <tr>\n",
       "      <th>1</th>\n",
       "      <td>Afghanistan</td>\n",
       "      <td>EMR</td>\n",
       "      <td>1981</td>\n",
       "      <td>new_sp_m014</td>\n",
       "      <td>NaN</td>\n",
       "      <td>new</td>\n",
       "      <td>sp</td>\n",
       "      <td>m014</td>\n",
       "    </tr>\n",
       "    <tr>\n",
       "      <th>2</th>\n",
       "      <td>Afghanistan</td>\n",
       "      <td>EMR</td>\n",
       "      <td>1982</td>\n",
       "      <td>new_sp_m014</td>\n",
       "      <td>NaN</td>\n",
       "      <td>new</td>\n",
       "      <td>sp</td>\n",
       "      <td>m014</td>\n",
       "    </tr>\n",
       "    <tr>\n",
       "      <th>3</th>\n",
       "      <td>Afghanistan</td>\n",
       "      <td>EMR</td>\n",
       "      <td>1983</td>\n",
       "      <td>new_sp_m014</td>\n",
       "      <td>NaN</td>\n",
       "      <td>new</td>\n",
       "      <td>sp</td>\n",
       "      <td>m014</td>\n",
       "    </tr>\n",
       "    <tr>\n",
       "      <th>4</th>\n",
       "      <td>Afghanistan</td>\n",
       "      <td>EMR</td>\n",
       "      <td>1984</td>\n",
       "      <td>new_sp_m014</td>\n",
       "      <td>NaN</td>\n",
       "      <td>new</td>\n",
       "      <td>sp</td>\n",
       "      <td>m014</td>\n",
       "    </tr>\n",
       "  </tbody>\n",
       "</table>\n",
       "</div>"
      ],
      "text/plain": [
       "       country g_whoregion  year          key  cases  new type sexage\n",
       "0  Afghanistan         EMR  1980  new_sp_m014    NaN  new   sp   m014\n",
       "1  Afghanistan         EMR  1981  new_sp_m014    NaN  new   sp   m014\n",
       "2  Afghanistan         EMR  1982  new_sp_m014    NaN  new   sp   m014\n",
       "3  Afghanistan         EMR  1983  new_sp_m014    NaN  new   sp   m014\n",
       "4  Afghanistan         EMR  1984  new_sp_m014    NaN  new   sp   m014"
      ]
     },
     "execution_count": 20,
     "metadata": {},
     "output_type": "execute_result"
    }
   ],
   "source": [
    "melted.head()"
   ]
  },
  {
   "cell_type": "code",
   "execution_count": 21,
   "metadata": {
    "collapsed": false
   },
   "outputs": [],
   "source": [
    "melted.drop('new', axis=1, inplace=True)"
   ]
  },
  {
   "cell_type": "code",
   "execution_count": 22,
   "metadata": {
    "collapsed": true
   },
   "outputs": [],
   "source": [
    "melted.drop('key', axis=1, inplace=True)"
   ]
  },
  {
   "cell_type": "code",
   "execution_count": 23,
   "metadata": {
    "collapsed": false
   },
   "outputs": [
    {
     "data": {
      "text/html": [
       "<div>\n",
       "<table border=\"1\" class=\"dataframe\">\n",
       "  <thead>\n",
       "    <tr style=\"text-align: right;\">\n",
       "      <th></th>\n",
       "      <th>country</th>\n",
       "      <th>g_whoregion</th>\n",
       "      <th>year</th>\n",
       "      <th>cases</th>\n",
       "      <th>type</th>\n",
       "      <th>sexage</th>\n",
       "    </tr>\n",
       "  </thead>\n",
       "  <tbody>\n",
       "    <tr>\n",
       "      <th>0</th>\n",
       "      <td>Afghanistan</td>\n",
       "      <td>EMR</td>\n",
       "      <td>1980</td>\n",
       "      <td>NaN</td>\n",
       "      <td>sp</td>\n",
       "      <td>m014</td>\n",
       "    </tr>\n",
       "    <tr>\n",
       "      <th>1</th>\n",
       "      <td>Afghanistan</td>\n",
       "      <td>EMR</td>\n",
       "      <td>1981</td>\n",
       "      <td>NaN</td>\n",
       "      <td>sp</td>\n",
       "      <td>m014</td>\n",
       "    </tr>\n",
       "    <tr>\n",
       "      <th>2</th>\n",
       "      <td>Afghanistan</td>\n",
       "      <td>EMR</td>\n",
       "      <td>1982</td>\n",
       "      <td>NaN</td>\n",
       "      <td>sp</td>\n",
       "      <td>m014</td>\n",
       "    </tr>\n",
       "    <tr>\n",
       "      <th>3</th>\n",
       "      <td>Afghanistan</td>\n",
       "      <td>EMR</td>\n",
       "      <td>1983</td>\n",
       "      <td>NaN</td>\n",
       "      <td>sp</td>\n",
       "      <td>m014</td>\n",
       "    </tr>\n",
       "    <tr>\n",
       "      <th>4</th>\n",
       "      <td>Afghanistan</td>\n",
       "      <td>EMR</td>\n",
       "      <td>1984</td>\n",
       "      <td>NaN</td>\n",
       "      <td>sp</td>\n",
       "      <td>m014</td>\n",
       "    </tr>\n",
       "  </tbody>\n",
       "</table>\n",
       "</div>"
      ],
      "text/plain": [
       "       country g_whoregion  year  cases type sexage\n",
       "0  Afghanistan         EMR  1980    NaN   sp   m014\n",
       "1  Afghanistan         EMR  1981    NaN   sp   m014\n",
       "2  Afghanistan         EMR  1982    NaN   sp   m014\n",
       "3  Afghanistan         EMR  1983    NaN   sp   m014\n",
       "4  Afghanistan         EMR  1984    NaN   sp   m014"
      ]
     },
     "execution_count": 23,
     "metadata": {},
     "output_type": "execute_result"
    }
   ],
   "source": [
    "melted.head()"
   ]
  },
  {
   "cell_type": "code",
   "execution_count": 24,
   "metadata": {
    "collapsed": false
   },
   "outputs": [],
   "source": [
    "melted[['sex']] = melted['sexage'].apply(lambda x: pd.Series(x[0]))"
   ]
  },
  {
   "cell_type": "code",
   "execution_count": 25,
   "metadata": {
    "collapsed": true
   },
   "outputs": [],
   "source": [
    "melted[['age_range']] = melted['sexage'].apply(lambda x: pd.Series(x[1:]))"
   ]
  },
  {
   "cell_type": "code",
   "execution_count": 26,
   "metadata": {
    "collapsed": true
   },
   "outputs": [],
   "source": [
    "melted.drop('sexage', axis=1, inplace=True)"
   ]
  },
  {
   "cell_type": "code",
   "execution_count": 27,
   "metadata": {
    "collapsed": false
   },
   "outputs": [
    {
     "data": {
      "text/html": [
       "<div>\n",
       "<table border=\"1\" class=\"dataframe\">\n",
       "  <thead>\n",
       "    <tr style=\"text-align: right;\">\n",
       "      <th></th>\n",
       "      <th>country</th>\n",
       "      <th>g_whoregion</th>\n",
       "      <th>year</th>\n",
       "      <th>cases</th>\n",
       "      <th>type</th>\n",
       "      <th>sex</th>\n",
       "      <th>age_range</th>\n",
       "    </tr>\n",
       "  </thead>\n",
       "  <tbody>\n",
       "    <tr>\n",
       "      <th>0</th>\n",
       "      <td>Afghanistan</td>\n",
       "      <td>EMR</td>\n",
       "      <td>1980</td>\n",
       "      <td>NaN</td>\n",
       "      <td>sp</td>\n",
       "      <td>m</td>\n",
       "      <td>014</td>\n",
       "    </tr>\n",
       "    <tr>\n",
       "      <th>1</th>\n",
       "      <td>Afghanistan</td>\n",
       "      <td>EMR</td>\n",
       "      <td>1981</td>\n",
       "      <td>NaN</td>\n",
       "      <td>sp</td>\n",
       "      <td>m</td>\n",
       "      <td>014</td>\n",
       "    </tr>\n",
       "    <tr>\n",
       "      <th>2</th>\n",
       "      <td>Afghanistan</td>\n",
       "      <td>EMR</td>\n",
       "      <td>1982</td>\n",
       "      <td>NaN</td>\n",
       "      <td>sp</td>\n",
       "      <td>m</td>\n",
       "      <td>014</td>\n",
       "    </tr>\n",
       "    <tr>\n",
       "      <th>3</th>\n",
       "      <td>Afghanistan</td>\n",
       "      <td>EMR</td>\n",
       "      <td>1983</td>\n",
       "      <td>NaN</td>\n",
       "      <td>sp</td>\n",
       "      <td>m</td>\n",
       "      <td>014</td>\n",
       "    </tr>\n",
       "    <tr>\n",
       "      <th>4</th>\n",
       "      <td>Afghanistan</td>\n",
       "      <td>EMR</td>\n",
       "      <td>1984</td>\n",
       "      <td>NaN</td>\n",
       "      <td>sp</td>\n",
       "      <td>m</td>\n",
       "      <td>014</td>\n",
       "    </tr>\n",
       "  </tbody>\n",
       "</table>\n",
       "</div>"
      ],
      "text/plain": [
       "       country g_whoregion  year  cases type sex age_range\n",
       "0  Afghanistan         EMR  1980    NaN   sp   m       014\n",
       "1  Afghanistan         EMR  1981    NaN   sp   m       014\n",
       "2  Afghanistan         EMR  1982    NaN   sp   m       014\n",
       "3  Afghanistan         EMR  1983    NaN   sp   m       014\n",
       "4  Afghanistan         EMR  1984    NaN   sp   m       014"
      ]
     },
     "execution_count": 27,
     "metadata": {},
     "output_type": "execute_result"
    }
   ],
   "source": [
    "melted.head()"
   ]
  },
  {
   "cell_type": "code",
   "execution_count": 28,
   "metadata": {
    "collapsed": false
   },
   "outputs": [
    {
     "data": {
      "text/html": [
       "<div>\n",
       "<table border=\"1\" class=\"dataframe\">\n",
       "  <thead>\n",
       "    <tr style=\"text-align: right;\">\n",
       "      <th></th>\n",
       "      <th>country</th>\n",
       "      <th>g_whoregion</th>\n",
       "      <th>year</th>\n",
       "      <th>cases</th>\n",
       "      <th>type</th>\n",
       "      <th>sex</th>\n",
       "      <th>age_range</th>\n",
       "    </tr>\n",
       "  </thead>\n",
       "  <tbody>\n",
       "    <tr>\n",
       "      <th>429739</th>\n",
       "      <td>Zimbabwe</td>\n",
       "      <td>AFR</td>\n",
       "      <td>2011</td>\n",
       "      <td>NaN</td>\n",
       "      <td>rel</td>\n",
       "      <td>f</td>\n",
       "      <td>65</td>\n",
       "    </tr>\n",
       "    <tr>\n",
       "      <th>429740</th>\n",
       "      <td>Zimbabwe</td>\n",
       "      <td>AFR</td>\n",
       "      <td>2012</td>\n",
       "      <td>NaN</td>\n",
       "      <td>rel</td>\n",
       "      <td>f</td>\n",
       "      <td>65</td>\n",
       "    </tr>\n",
       "    <tr>\n",
       "      <th>429741</th>\n",
       "      <td>Zimbabwe</td>\n",
       "      <td>AFR</td>\n",
       "      <td>2013</td>\n",
       "      <td>725.0</td>\n",
       "      <td>rel</td>\n",
       "      <td>f</td>\n",
       "      <td>65</td>\n",
       "    </tr>\n",
       "    <tr>\n",
       "      <th>429742</th>\n",
       "      <td>Zimbabwe</td>\n",
       "      <td>AFR</td>\n",
       "      <td>2014</td>\n",
       "      <td>718.0</td>\n",
       "      <td>rel</td>\n",
       "      <td>f</td>\n",
       "      <td>65</td>\n",
       "    </tr>\n",
       "    <tr>\n",
       "      <th>429743</th>\n",
       "      <td>Zimbabwe</td>\n",
       "      <td>AFR</td>\n",
       "      <td>2015</td>\n",
       "      <td>629.0</td>\n",
       "      <td>rel</td>\n",
       "      <td>f</td>\n",
       "      <td>65</td>\n",
       "    </tr>\n",
       "  </tbody>\n",
       "</table>\n",
       "</div>"
      ],
      "text/plain": [
       "         country g_whoregion  year  cases type sex age_range\n",
       "429739  Zimbabwe         AFR  2011    NaN  rel   f        65\n",
       "429740  Zimbabwe         AFR  2012    NaN  rel   f        65\n",
       "429741  Zimbabwe         AFR  2013  725.0  rel   f        65\n",
       "429742  Zimbabwe         AFR  2014  718.0  rel   f        65\n",
       "429743  Zimbabwe         AFR  2015  629.0  rel   f        65"
      ]
     },
     "execution_count": 28,
     "metadata": {},
     "output_type": "execute_result"
    }
   ],
   "source": [
    "melted.tail()"
   ]
  },
  {
   "cell_type": "code",
   "execution_count": 29,
   "metadata": {
    "collapsed": true
   },
   "outputs": [],
   "source": [
    "melted.to_csv('data/tidy_who.csv', index=False)"
   ]
  },
  {
   "cell_type": "markdown",
   "metadata": {},
   "source": [
    "- Dataset is in a data frame.\n",
    "- Each column is a variable.\n",
    "- Each row is an observation."
   ]
  },
  {
   "cell_type": "markdown",
   "metadata": {},
   "source": [
    "How about types?\n",
    "Function [convert_objects()](http://pandas.pydata.org/pandas-docs/stable/generated/pandas.DataFrame.convert_objects.html) seems worth looking into."
   ]
  },
  {
   "cell_type": "code",
   "execution_count": 30,
   "metadata": {
    "collapsed": false
   },
   "outputs": [
    {
     "data": {
      "text/plain": [
       "dtype('float64')"
      ]
     },
     "execution_count": 30,
     "metadata": {},
     "output_type": "execute_result"
    }
   ],
   "source": [
    "# http://pandas.pydata.org/pandas-docs/stable/gotchas.html#support-for-integer-na\n",
    "melted['cases'].dtypes"
   ]
  },
  {
   "cell_type": "markdown",
   "metadata": {},
   "source": [
    "And?"
   ]
  },
  {
   "cell_type": "code",
   "execution_count": 31,
   "metadata": {
    "collapsed": false
   },
   "outputs": [
    {
     "data": {
      "text/plain": [
       "type\n",
       "ep     107436\n",
       "rel    107436\n",
       "sn     107436\n",
       "sp     107436\n",
       "dtype: int64"
      ]
     },
     "execution_count": 31,
     "metadata": {},
     "output_type": "execute_result"
    }
   ],
   "source": [
    "melted.groupby('type').size()"
   ]
  },
  {
   "cell_type": "code",
   "execution_count": 32,
   "metadata": {
    "collapsed": false
   },
   "outputs": [
    {
     "data": {
      "text/plain": [
       "ep     107436\n",
       "sn     107436\n",
       "rel    107436\n",
       "sp     107436\n",
       "Name: type, dtype: int64"
      ]
     },
     "execution_count": 32,
     "metadata": {},
     "output_type": "execute_result"
    }
   ],
   "source": [
    "melted['type'].value_counts()"
   ]
  },
  {
   "cell_type": "code",
   "execution_count": 33,
   "metadata": {
    "collapsed": true
   },
   "outputs": [],
   "source": [
    "import matplotlib\n",
    "%matplotlib inline"
   ]
  },
  {
   "cell_type": "code",
   "execution_count": 34,
   "metadata": {
    "collapsed": false
   },
   "outputs": [
    {
     "data": {
      "text/plain": [
       "<matplotlib.axes._subplots.AxesSubplot at 0x7f01df7410b8>"
      ]
     },
     "execution_count": 34,
     "metadata": {},
     "output_type": "execute_result"
    },
    {
     "data": {
      "image/png": "[encoded data removed]",
      "text/plain": [
       "<matplotlib.figure.Figure at 0x7f01df190400>"
      ]
     },
     "metadata": {},
     "output_type": "display_data"
    }
   ],
   "source": [
    "melted.groupby(('year', 'sex'))['cases'].sum().unstack().plot()"
   ]
  }
 ],
 "metadata": {
  "kernelspec": {
   "display_name": "Python 3",
   "language": "python",
   "name": "python3"
  },
  "language_info": {
   "codemirror_mode": {
    "name": "ipython",
    "version": 3
   },
   "file_extension": ".py",
   "mimetype": "text/x-python",
   "name": "python",
   "nbconvert_exporter": "python",
   "pygments_lexer": "ipython3",
   "version": "3.5.2"
  }
 },
 "nbformat": 4,
 "nbformat_minor": 1
}
